{
 "cells": [
  {
   "cell_type": "markdown",
   "metadata": {},
   "source": [
    "Imports"
   ]
  },
  {
   "cell_type": "code",
   "execution_count": 312,
   "metadata": {},
   "outputs": [],
   "source": [
    "import os\n",
    "from os import listdir\n",
    "from os.path import isfile, join\n",
    "import numpy as np\n",
    "import open3d as o3d\n",
    "import pandas as pd\n",
    "import regex\n",
    "import copy"
   ]
  },
  {
   "cell_type": "markdown",
   "metadata": {},
   "source": [
    "Point Cloud Visualization"
   ]
  },
  {
   "cell_type": "code",
   "execution_count": 313,
   "metadata": {},
   "outputs": [],
   "source": [
    "def cleanTxt(oldFile, i):\n",
    "    # Takes in a txt file and with pandas saves a txt file that can\n",
    "    # be used by open3d\n",
    "    data = pd.read_csv(oldFile, header=None)    \n",
    "    np.savetxt(f'FinalPointClouds/pointCloud{i}', data.values)\n",
    "    \n",
    "    "
   ]
  },
  {
   "cell_type": "code",
   "execution_count": 314,
   "metadata": {},
   "outputs": [],
   "source": [
    "def visualizePointCloud(file):\n",
    "    # Takes a point cloud file to load and visualize\n",
    "    pointCloud = file\n",
    "\n",
    "    # Takes the point cloud data and visualizes it\n",
    "    pcd = o3d.io.read_point_cloud(pointCloud, format='xyzrgb')\n",
    "    \n",
    "    #print(len(np.asarray(pcd.points)))\n",
    "    o3d.visualization.draw_geometries([pcd])"
   ]
  },
  {
   "attachments": {},
   "cell_type": "markdown",
   "metadata": {},
   "source": [
    "Receive txt files from Unity and send to output directory"
   ]
  },
  {
   "cell_type": "code",
   "execution_count": 315,
   "metadata": {},
   "outputs": [
    {
     "name": "stdout",
     "output_type": "stream",
     "text": [
      "Deleting file: FinalPointClouds\\pointCloud0\n",
      "Deleting file: FinalPointClouds\\pointCloud1\n",
      "Deleting file: FinalPointClouds\\pointCloud2\n",
      "Deleting file: FinalPointClouds\\pointCloud3\n",
      "Deleting file: FinalPointClouds\\pointCloud4\n",
      "Deleting file: FinalPointClouds\\pointCloud5\n",
      "Deleting file: FinalPointClouds\\pointCloud6\n",
      "Deleting file: FinalPointClouds\\pointCloud7\n",
      "Deleting file: FinalPointClouds\\pointCloud8\n",
      "Deleting file: FinalPointClouds\\pointCloud9\n"
     ]
    }
   ],
   "source": [
    "def textFileCleanup():\n",
    "    # clean output directory first\n",
    "    # convert unity txt to readable txt\n",
    "    # save each point cloud txt in final directory\n",
    "    \n",
    "    # Paths of relevant directories\n",
    "    unityPCs = 'My project/Assets/PointClouds'\n",
    "    cleanPCs = 'FinalPointClouds'\n",
    "\n",
    "    # Clean output directory\n",
    "    for fileName in os.listdir(cleanPCs):\n",
    "        file = os.path.join(cleanPCs, fileName)\n",
    "        \n",
    "        if os.path.isfile(file):\n",
    "            print('Deleting file:', file)\n",
    "            os.remove(file)\n",
    "            \n",
    "    # For every txt file outputted by Unity, save to output directory\n",
    "    for f in os.listdir(unityPCs):\n",
    "        unityFile = os.path.join(unityPCs, f)\n",
    "\n",
    "        if os.path.isfile(unityFile) and unityFile.endswith('.txt'):\n",
    "            # use regex to know which number file we are on and send to clean\n",
    "            index = int(regex.findall(r'\\d+', unityFile)[0])\n",
    "            cleanTxt(unityFile, index)\n",
    "            \n",
    "        \n",
    "textFileCleanup()\n",
    "\n"
   ]
  },
  {
   "cell_type": "code",
   "execution_count": 316,
   "metadata": {},
   "outputs": [],
   "source": [
    "def sortPointCloudFiles(listOfFiles):\n",
    "    # Takes a list of txt point cloud files that are numbered, sorts and \n",
    "    # then returns the sorted list\n",
    "    \n",
    "    # Initialize an empty list to insert values into\n",
    "    sortedList = [\"\" for x in range(len(listOfFiles))]\n",
    "    \n",
    "    for file in listOfFiles:\n",
    "        # Find index associated to txt file and add to that position in\n",
    "        # sorted list\n",
    "        index = int(regex.findall(r'\\d+', file)[0])\n",
    "        sortedList[index] = file\n",
    "    \n",
    "    return sortedList"
   ]
  },
  {
   "attachments": {},
   "cell_type": "markdown",
   "metadata": {},
   "source": [
    "ICP Registration"
   ]
  },
  {
   "cell_type": "code",
   "execution_count": 317,
   "metadata": {},
   "outputs": [
    {
     "name": "stdout",
     "output_type": "stream",
     "text": [
      "Type of finalPC: <class 'open3d.cpu.pybind.geometry.PointCloud'>\n",
      "Merging:  pointCloud0 pointCloud1\n",
      "Merging:  pointCloud0 pointCloud2\n",
      "Merging:  pointCloud0 pointCloud3\n",
      "Merging:  pointCloud0 pointCloud4\n",
      "Merging:  pointCloud0 pointCloud5\n",
      "Merging:  pointCloud0 pointCloud6\n",
      "Merging:  pointCloud0 pointCloud7\n",
      "Merging:  pointCloud0 pointCloud8\n",
      "Merging:  pointCloud0 pointCloud9\n",
      "Merging:  pointCloud0 pointCloud10\n",
      "Merging:  pointCloud0 pointCloud11\n",
      "Merging:  pointCloud0 pointCloud12\n",
      "Merging:  pointCloud0 pointCloud13\n",
      "Merging:  pointCloud0 pointCloud14\n"
     ]
    }
   ],
   "source": [
    "def draw_registration_result(source, target, transformation):\n",
    "    # A helper function that visualizes the transformed source point cloud\n",
    "    # with the target point cloud. Provided from the Open3D documentation.\n",
    "    \n",
    "    source_temp = copy.deepcopy(source)\n",
    "    target_temp = copy.deepcopy(target)\n",
    "    source_temp.paint_uniform_color([1, 0.706, 0]) #Yellowish cloud\n",
    "    target_temp.paint_uniform_color([0, 0.651, 0.929]) #bluish cloud\n",
    "    source_temp.transform(transformation)\n",
    "    o3d.visualization.draw_geometries([source_temp, target_temp],\n",
    "                                      zoom=0.4459,\n",
    "                                      front=[0.9288, -0.2951, -0.2242],\n",
    "                                      lookat=[1.6784, 2.0612, 1.4451],\n",
    "                                      up=[-0.3402, -0.9189, -0.1996])\n",
    "\n",
    "def ICP(pointCloud1, pointCloud2, pc1Form, pc2Form):\n",
    "    # Receives as input two point clouds, and merges the 2nd point cloud\n",
    "    # into the first with ICP. The pcForm condition refers to if pc1 or pc2 is \n",
    "    # already in .ply format or not\n",
    "    \n",
    "    if(pc1Form == True):\n",
    "        pc1 = o3d.io.read_point_cloud(pointCloud1)\n",
    "    else: pc1 = o3d.io.read_point_cloud(pointCloud1, format='xyzrgb') \n",
    "    \n",
    "    if(pc2Form == True):\n",
    "        pc2 = o3d.io.read_point_cloud(pointCloud2)\n",
    "    else: pc2 = o3d.io.read_point_cloud(pointCloud2, format='xyzrgb')\n",
    "    \n",
    "    # ICP parameters\n",
    "    threshold = 0.02\n",
    "    trans_init = np.eye(4)\n",
    "    \n",
    "    # ICP registration pipeline\n",
    "    reg_p2p = o3d.pipelines.registration.registration_icp(\n",
    "        source=pc1, target=pc2, max_correspondence_distance=threshold, init=trans_init,\n",
    "        estimation_method=o3d.pipelines.registration.TransformationEstimationPointToPoint(),\n",
    "        criteria=o3d.pipelines.registration.ICPConvergenceCriteria(max_iteration=2000))\n",
    "    \n",
    "    # Visualize ICP\n",
    "    #draw_registration_result(pc1, pc2, reg_p2p.transformation)\n",
    "    \n",
    "    return reg_p2p\n",
    "    \n",
    "def mergePointClouds():\n",
    "    # For every point cloud in the FinalPointClouds directory, create a \n",
    "    # final point cloud by merging them all with ICP\n",
    "    finalPC = o3d.geometry.PointCloud()\n",
    "    print('Type of finalPC:', type(finalPC))\n",
    "\n",
    "    # list of txt files in FinalPointClouds directory\n",
    "    pointCloudsDir = 'FinalPointClouds'\n",
    "    onlyfiles = [f for f in os.listdir(pointCloudsDir) if os.path.isfile(join(pointCloudsDir, f))]\n",
    "    \n",
    "    sortedFiles = sortPointCloudFiles(onlyfiles)\n",
    "    \n",
    "    # Set a starting pointcloud txt file\n",
    "    firstPC = sortedFiles[0]\n",
    "    \n",
    "    for i in range(1, len(sortedFiles)):\n",
    "        # For every subsequent point cloud file, merge to the first one\n",
    "        target = sortedFiles[i]\n",
    "        print('Merging: ', firstPC, target)\n",
    "        \n",
    "        # Iterate over all other txt files and use ICP to merge into one point cloud\n",
    "        if(i == 1):\n",
    "            # If its the first iteration, the point cloud is any arbitrary point cloud\n",
    "            finalMerge = False\n",
    "            pathPC1 = pointCloudsDir + '/' + firstPC    \n",
    "            pcd1 = o3d.io.read_point_cloud(pathPC1, format='xyzrgb')\n",
    "        \n",
    "        else:\n",
    "            # On all other iterations, we want to merge with the final cloud \n",
    "            finalMerge = True\n",
    "            pathPC1 = 'mergedPC_run18.ply'\n",
    "            pcd1 = o3d.io.read_point_cloud(pathPC1)\n",
    "        \n",
    "        pathPC2 = pointCloudsDir + '/' + target\n",
    "        pcd2 = o3d.io.read_point_cloud(pathPC2, format='xyzrgb')\n",
    "        \n",
    "        # Use ICP to find transformation matrix between the two\n",
    "        transformationInfo = ICP(pathPC1, pathPC2, finalMerge, False)\n",
    "        transformationMatrix = transformationInfo.transformation\n",
    "        \n",
    "        finalPC = pcd1.transform(transformationMatrix)\n",
    "        finalPC += pcd2.transform(transformationMatrix)\n",
    "        \n",
    "        o3d.io.write_point_cloud('mergedPC_run18.ply', finalPC, write_ascii=True)\n",
    "            \n",
    "    return finalPC\n",
    "\n",
    "mergedPointCloud = mergePointClouds()\n"
   ]
  },
  {
   "cell_type": "code",
   "execution_count": 318,
   "metadata": {},
   "outputs": [
    {
     "name": "stdout",
     "output_type": "stream",
     "text": [
      "140976\n"
     ]
    }
   ],
   "source": [
    " # Takes the final point cloud data and visualizes it\n",
    "final = o3d.io.read_point_cloud('mergedPC_run18.ply')\n",
    "\n",
    "print(len(np.asarray(final.points)))\n",
    "o3d.visualization.draw_geometries([final])"
   ]
  },
  {
   "cell_type": "code",
   "execution_count": 323,
   "metadata": {},
   "outputs": [],
   "source": [
    "def mergeFinalClouds(finalCloud1, finalCloud2):\n",
    "    # takes two complete clouds that are a combination of the original point \n",
    "    # clouds registered, and merge them into one \n",
    "    finalPC = o3d.geometry.PointCloud()\n",
    "    \n",
    "    # Use ICP to find transformation matrix between the two\n",
    "    transformationInfo = ICP(finalCloud1, finalCloud2, True, True)\n",
    "    transformationMatrix = transformationInfo.transformation\n",
    "    \n",
    "    pcd1 = o3d.io.read_point_cloud(finalCloud1)\n",
    "    pcd2 = o3d.io.read_point_cloud(finalCloud2)\n",
    "    \n",
    "    finalPC = pcd1.transform(transformationMatrix)\n",
    "    finalPC += pcd2.transform(transformationMatrix)\n",
    "    \n",
    "    o3d.io.write_point_cloud('mergedTest_add18.ply', finalPC, write_ascii=True)\n",
    "        \n",
    "    return finalPC\n",
    "\n",
    "\n",
    "#Testing/Visualizing purposes\n",
    "\n",
    "#mergeTest = mergeFinalClouds('mergedTest_add17.ply', 'mergedPC_run18.ply')\n",
    "#mergeTest = o3d.io.read_point_cloud('mergedTest_add18.ply')\n",
    "#print(len(np.asarray(mergeTest.points)))\n",
    "#o3d.visualization.draw_geometries([mergeTest])\n",
    "\n",
    "\n"
   ]
  },
  {
   "attachments": {},
   "cell_type": "markdown",
   "metadata": {},
   "source": [
    "After iteratively merging point clouds as they were processed, the final cloud is composed of about 200 point clouds that have 10,000 points each. The final cloud is as follows:"
   ]
  },
  {
   "cell_type": "code",
   "execution_count": 327,
   "metadata": {},
   "outputs": [
    {
     "name": "stdout",
     "output_type": "stream",
     "text": [
      "Cloud has 2029947 total points in it\n"
     ]
    }
   ],
   "source": [
    "finalMergedPointCloud = o3d.io.read_point_cloud('FINALCLOUD.ply')\n",
    "print(f'Cloud has {len(np.asarray(finalMergedPointCloud.points))} total points in it')\n",
    "o3d.visualization.draw_geometries([finalMergedPointCloud])"
   ]
  }
 ],
 "metadata": {
  "kernelspec": {
   "display_name": "Python 3",
   "language": "python",
   "name": "python3"
  },
  "language_info": {
   "codemirror_mode": {
    "name": "ipython",
    "version": 3
   },
   "file_extension": ".py",
   "mimetype": "text/x-python",
   "name": "python",
   "nbconvert_exporter": "python",
   "pygments_lexer": "ipython3",
   "version": "3.10.9"
  },
  "vscode": {
   "interpreter": {
    "hash": "fc7dd57f965bfe4438fa5b0fe09ae7e2a77fa361b4798fa6d27af0f31e021fc7"
   }
  }
 },
 "nbformat": 4,
 "nbformat_minor": 2
}
